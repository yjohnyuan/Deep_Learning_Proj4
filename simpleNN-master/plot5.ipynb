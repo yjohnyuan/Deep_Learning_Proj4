{
 "cells": [
  {
   "cell_type": "code",
   "execution_count": null,
   "metadata": {},
   "outputs": [],
   "source": [
    "!pip install plotly"
   ]
  },
  {
   "cell_type": "code",
   "execution_count": 12,
   "metadata": {},
   "outputs": [],
   "source": [
    "import scipy.io as sio\n",
    "\n",
    "results = {}\n",
    "\n",
    "results['nc20'] = sio.loadmat('results/results_newton_cifar10-train.mat_20_1559476483011556.mat')\n",
    "results['nc21'] = sio.loadmat('results/results_newton_cifar10-train.mat_21_1559464881275630.mat')\n",
    "results['nc50'] = sio.loadmat('results/results_newton_cifar10-train.mat_50_1559483371656790.mat')\n",
    "results['nc51'] = sio.loadmat('results/results_newton_cifar10-train.mat_51_1559470122884737.mat')\n",
    "results['nm20'] = sio.loadmat('results/results_newton_mnist-train.mat_20_1559509798543746.mat')\n",
    "results['nm21'] = sio.loadmat('results/results_newton_mnist-train.mat_21_1559498525601075.mat')\n",
    "results['nm50'] = sio.loadmat('results/results_newton_mnist-train.mat_50_1559515371640647.mat')\n",
    "results['nm51'] = sio.loadmat('results/results_newton_mnist-train.mat_51_1559502553248079.mat')\n",
    "results['sc0001'] = sio.loadmat('results/results_sgd_cifar10-train.mat_0.0001_1559530272827250.mat')\n",
    "results['sc001'] = sio.loadmat('results/results_sgd_cifar10-train.mat_0.001_1559534150717747.mat')\n",
    "results['sc01'] = sio.loadmat('results/results_sgd_cifar10-train.mat_0.01_1559541371909220.mat')\n",
    "results['sc1'] = sio.loadmat('results/results_sgd_cifar10-train.mat_0.1_1559581253938296.mat')\n",
    "results['sm0001'] = sio.loadmat('results/results_sgd_mnist-train.mat_0.0001_1559563830306719.mat')\n",
    "results['sm001'] = sio.loadmat('results/results_sgd_mnist-train.mat_0.001_1559558201095300.mat')\n",
    "results['sm01'] = sio.loadmat('results/results_sgd_mnist-train.mat_0.01_1559553353661328.mat')\n",
    "results['sm1'] = sio.loadmat('results/results_sgd_mnist-train.mat_0.1_1559548256110114.mat')"
   ]
  },
  {
   "cell_type": "code",
   "execution_count": 15,
   "metadata": {},
   "outputs": [
    {
     "name": "stdout",
     "output_type": "stream",
     "text": [
      "[[  1   5  10  15  20  25  30  35  40  45  50  55  60  65  70  75  80  85\n",
      "   90  95 100]]\n",
      "[[0.484   0.31275 0.61925 0.65725 0.66925 0.67575 0.68625 0.6895  0.69075\n",
      "  0.691   0.693   0.694   0.69525 0.697   0.6975  0.69975 0.70175 0.70425\n",
      "  0.703   0.70375 0.70725]]\n"
     ]
    }
   ],
   "source": [
    "# print((nc20))\n",
    "print(results['nc20']['epochs'])\n",
    "print(results['nc20']['accuracies'])"
   ]
  },
  {
   "cell_type": "code",
   "execution_count": 16,
   "metadata": {},
   "outputs": [],
   "source": [
    "def enable_plotly_in_cell():\n",
    "  import IPython\n",
    "  from plotly.offline import init_notebook_mode\n",
    "  display(IPython.core.display.HTML('''\n",
    "        <script src=\"/static/components/requirejs/require.js\"></script>\n",
    "  '''))\n",
    "  init_notebook_mode(connected=False)"
   ]
  },
  {
   "cell_type": "code",
   "execution_count": null,
   "metadata": {},
   "outputs": [],
   "source": [
    "cifar = (map(float, cifar.split()))\n",
    "mnist = (map(float, mnist.split()))\n",
    "#cifar"
   ]
  },
  {
   "cell_type": "code",
   "execution_count": 17,
   "metadata": {},
   "outputs": [
    {
     "ename": "ModuleNotFoundError",
     "evalue": "No module named 'plotly'",
     "output_type": "error",
     "traceback": [
      "\u001b[1;31m---------------------------------------------------------------------------\u001b[0m",
      "\u001b[1;31mModuleNotFoundError\u001b[0m                       Traceback (most recent call last)",
      "\u001b[1;32m<ipython-input-17-cab46a9e80ab>\u001b[0m in \u001b[0;36m<module>\u001b[1;34m()\u001b[0m\n\u001b[1;32m----> 1\u001b[1;33m \u001b[1;32mimport\u001b[0m \u001b[0mplotly\u001b[0m\u001b[1;33m.\u001b[0m\u001b[0moffline\u001b[0m\u001b[1;33m\u001b[0m\u001b[0m\n\u001b[0m\u001b[0;32m      2\u001b[0m \u001b[1;32mfrom\u001b[0m \u001b[0mplotly\u001b[0m\u001b[1;33m.\u001b[0m\u001b[0moffline\u001b[0m \u001b[1;32mimport\u001b[0m \u001b[0minit_notebook_mode\u001b[0m\u001b[1;33m,\u001b[0m \u001b[0miplot\u001b[0m\u001b[1;33m\u001b[0m\u001b[0m\n\u001b[0;32m      3\u001b[0m \u001b[1;32mimport\u001b[0m \u001b[0mplotly\u001b[0m\u001b[1;33m.\u001b[0m\u001b[0mgraph_objs\u001b[0m \u001b[1;32mas\u001b[0m \u001b[0mgo\u001b[0m\u001b[1;33m\u001b[0m\u001b[0m\n\u001b[0;32m      4\u001b[0m \u001b[1;33m\u001b[0m\u001b[0m\n\u001b[0;32m      5\u001b[0m \u001b[0menable_plotly_in_cell\u001b[0m\u001b[1;33m(\u001b[0m\u001b[1;33m)\u001b[0m\u001b[1;33m\u001b[0m\u001b[0m\n",
      "\u001b[1;31mModuleNotFoundError\u001b[0m: No module named 'plotly'"
     ]
    }
   ],
   "source": [
    "import plotly.offline \n",
    "from plotly.offline import init_notebook_mode, iplot\n",
    "import plotly.graph_objs as go\n",
    "\n",
    "enable_plotly_in_cell()\n",
    "\n",
    "for r in results:\n",
    "    tracecif = go.Scatter(\n",
    "        x = results[r]['epochs']\n",
    "        y = results[r]['accuracies']\n",
    "        line= { 'smoothing': 1.3, 'color':'light blue'},\n",
    "        mode='lines',\n",
    "        name=r + ' Accuracy',\n",
    "        text=[\"tweak line smoothness<br>with 'smoothing' in line object\"],\n",
    "        hoverinfo='text+name'  \n",
    "    )\n",
    "\n",
    "tracecif = go.Scatter(\n",
    "    x = list(range(1, 500)),\n",
    "   # y = [0.154,0.073,0.071,0.069,0.068,0.067,0.066,0.064,0.063,0.062],\n",
    "    y=cifar,\n",
    "    line= { 'smoothing': 1.3, 'color':'light blue'},\n",
    "    mode='lines',\n",
    "    name=\"Cifar10 Loss\",\n",
    "    text=[\"tweak line smoothness<br>with 'smoothing' in line object\"],\n",
    "    hoverinfo='text+name'  \n",
    ")\n",
    "\n",
    "tracemnist = go.Scatter(\n",
    "    x = list(range(1, 500)),\n",
    "   # y = [0.154,0.073,0.071,0.069,0.068,0.067,0.066,0.064,0.063,0.062],\n",
    "    y=mnist,\n",
    "    line= { 'smoothing': 1.3, 'color':'light blue'},\n",
    "    mode='lines',\n",
    "    name=\"Mnist Loss\",\n",
    "    text=[\"tweak line smoothness<br>with 'smoothing' in line object\"],\n",
    "    hoverinfo='text+name'  \n",
    ")\n",
    "\n",
    "data = [tracecif,tracemnist]\n",
    "\n",
    "layout = go.Layout(\n",
    "    title=go.layout.Title(\n",
    "        text='Matlab Cifar10 SGD Momentum 500 Epochs Loss',\n",
    "\n",
    "    ),\n",
    "    xaxis=go.layout.XAxis(\n",
    "        title=go.layout.xaxis.Title(\n",
    "            text='Epoch Number',\n",
    "            font=dict(\n",
    "                family='Arial, monospace',\n",
    "                size=18,\n",
    "                color='#7f7f7f'\n",
    "            )\n",
    "        )\n",
    "    ),\n",
    "    yaxis=go.layout.YAxis(\n",
    "        title=go.layout.yaxis.Title(\n",
    "            text='Loss',\n",
    "            font=dict(\n",
    "                family='Arial, monospace',\n",
    "                size=18,\n",
    "                color='#7f7f7f'\n",
    "            )\n",
    "        )\n",
    "    )\n",
    ")\n",
    "fig = go.Figure(data=data, layout=layout)\n",
    "iplot(fig, filename='styling-names')"
   ]
  }
 ],
 "metadata": {
  "kernelspec": {
   "display_name": "Python 3",
   "language": "python",
   "name": "python3"
  },
  "language_info": {
   "codemirror_mode": {
    "name": "ipython",
    "version": 3
   },
   "file_extension": ".py",
   "mimetype": "text/x-python",
   "name": "python",
   "nbconvert_exporter": "python",
   "pygments_lexer": "ipython3",
   "version": "3.6.4"
  }
 },
 "nbformat": 4,
 "nbformat_minor": 2
}
